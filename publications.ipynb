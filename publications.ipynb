{
  "cells": [
    {
      "cell_type": "raw",
      "metadata": {},
      "source": [
        "---\n",
        "title: Publications\n",
        "echo: false\n",
        "section-divs: false\n",
        "keep-md: true\n",
        "---"
      ],
      "id": "f28cc523"
    },
    {
      "cell_type": "code",
      "metadata": {},
      "source": [
        "# Courtesy of https://ddimmery.com/posts/quarto-website/\n",
        "# Drew Dimmery. 2022. “Quarto for an Academic Website.” May 11, 2022. https://ddimmery.com/posts/quarto-website.\n",
        "import yaml\n",
        "from IPython.display import display, Markdown, HTML\n",
        "from datetime import date\n",
        "\n",
        "def readable_list(_s):\n",
        "  if len(_s) < 3:\n",
        "    return ' and '.join(map(str, _s))\n",
        "  *a, b = _s\n",
        "  return f\"{', '.join(map(str, a))}, & {b}\"\n",
        "def button(url, str, icon):\n",
        "    icon_base = icon[:2]\n",
        "    return f\"\"\"<a class=\"btn btn-outline-dark btn-sm\", href=\"{url}\" target=\"_blank\" rel=\"noopener noreferrer\">\n",
        "        <i class=\"{icon_base} {icon}\" role='img' aria-label='{str}'></i>\n",
        "        {str}\n",
        "    </a>\"\"\"\n",
        "yaml_data = yaml.safe_load(open(\"publications.yml\"))\n",
        "pub_strs = {\"pubs\": {}, \"wps\": {}, \"thesis\": {}}\n",
        "for _, data in yaml_data.items():\n",
        "    title_str = data[\"title\"]\n",
        "    authors = data.get(\"authors\", [\"me\"])\n",
        "    authors = [aut if aut != \"me\" else \"<strong>Andreotta, M.</strong>\" for aut in authors]\n",
        "    author_str = readable_list(authors)\n",
        "    year_str = data[\"year\"]\n",
        "    if year_str is None:\n",
        "        year_str = date.today().year\n",
        "    buttons = []\n",
        "    preprint = data.get(\"preprint\")\n",
        "    if preprint is not None:\n",
        "        buttons.append(button(preprint, \"Preprint\", \"bi-file-earmark-pdf\"))\n",
        "    github = data.get(\"github\")\n",
        "    if github is not None:\n",
        "        buttons.append(button(github, \"Github\", \"bi-github\"))\n",
        "    osf = data.get(\"osf\")\n",
        "    if osf is not None:\n",
        "        buttons.append(button(osf, \"OSF\", \"bi-box\"))\n",
        "    pub_url = data.get(\"published_url\")\n",
        "    outlet = data.get(\"outlet\")\n",
        "    volume = data.get(\"volume\")\n",
        "    issue = data.get(\"issue\")\n",
        "    pages = data.get(\"pages\")\n",
        "    working_paper = (pub_url is None) and not (\"in-press\" in year_str)\n",
        "    thesis = pub_url == \"https://research-repository.uwa.edu.au/en/publications/mental-models-under-ideological-constraints-the-psychological-sig\"\n",
        "    pub_str = f'{author_str} ({year_str}). {title_str}.'\n",
        "    if outlet is not None:\n",
        "        pub_str += f\" <em>{outlet}</em>\"\n",
        "        if volume is not None:\n",
        "            pub_str += f\", <em>{volume}</em>\"\n",
        "            if issue is not None:\n",
        "                pub_str += f\"({issue})\"\n",
        "        if pages is not None:\n",
        "            pub_str += f\", {pages}\"\n",
        "        pub_str += \".\"\n",
        "            \n",
        "    if working_paper:\n",
        "        if year_str not in pub_strs[\"wps\"]:\n",
        "            pub_strs[\"wps\"][year_str] = []\n",
        "        pub_strs[\"wps\"][year_str].append(\n",
        "            \"<li class='list-group-item'>\" + pub_str + \"<br>\" + \" \".join(buttons) + \"</li>\"\n",
        "        )\n",
        "    elif not thesis:\n",
        "        if year_str not in pub_strs[\"pubs\"]:\n",
        "            pub_strs[\"pubs\"][year_str] = []\n",
        "        buttons.append(button(pub_url, \"Published\", \"bi-file-text\"))\n",
        "        pub_strs[\"pubs\"][year_str].append(\n",
        "            \"<li class='list-group-item'>\" + pub_str + \"<br>\" + \" \".join(buttons) + \"</li>\"\n",
        "        )\n",
        "    elif thesis:\n",
        "        if year_str not in pub_strs[\"thesis\"]:\n",
        "            pub_strs[\"thesis\"][year_str] = []\n",
        "        buttons.append(button(pub_url, \"Online\", \"bi-file-text\"))\n",
        "        pub_strs[\"thesis\"][year_str].append(\n",
        "            \"<li class='list-group-item'>\" + pub_str + \"<br>\" + \" \".join(buttons) + \"</li>\"\n",
        "        )\n"
      ],
      "id": "bc5345db",
      "execution_count": null,
      "outputs": []
    },
    {
      "cell_type": "markdown",
      "metadata": {},
      "source": [
        "## Peer-Reviewed Publications\n"
      ],
      "id": "323f1d16"
    },
    {
      "cell_type": "code",
      "metadata": {},
      "source": [
        "#| label: published-year\n",
        "#| output: asis\n",
        "for year in sorted(pub_strs[\"pubs\"].keys(), reverse=True):\n",
        "    display(Markdown(f\"### {year}\" + \"{#\" + f\"published-{year}\" + \"}\"))\n",
        "    display(HTML(\n",
        "        \"<ul class='list-group list-group-flush'>\" + '\\n'.join(pub_strs[\"pubs\"][year]) + \"</ul>\"\n",
        "    ))"
      ],
      "id": "published-year",
      "execution_count": null,
      "outputs": []
    },
    {
      "cell_type": "markdown",
      "metadata": {},
      "source": [
        "## Working Papers\n"
      ],
      "id": "80a2827c"
    },
    {
      "cell_type": "code",
      "metadata": {},
      "source": [
        "#| label: not-published-year\n",
        "#| output: asis\n",
        "for year in sorted(pub_strs[\"wps\"].keys(), reverse=True):\n",
        "    display(Markdown(f\"### {year}\" + \"{#\" + f\"not-published-{year}\" + \"}\"))\n",
        "    display(HTML(\n",
        "        \"<ul class='list-group list-group-flush'>\" + '\\n'.join(pub_strs[\"wps\"][year]) + \"</ul>\"\n",
        "    ))"
      ],
      "id": "not-published-year",
      "execution_count": null,
      "outputs": []
    },
    {
      "cell_type": "markdown",
      "metadata": {},
      "source": [
        "## PhD Thesis\n"
      ],
      "id": "e34ec304"
    },
    {
      "cell_type": "code",
      "metadata": {},
      "source": [
        "#| label: thesis-year\n",
        "#| output: asis\n",
        "for year in sorted(pub_strs[\"thesis\"].keys(), reverse=True):\n",
        "    display(HTML(\n",
        "        \"<ul class='list-group list-group-flush'>\" + '\\n'.join(pub_strs[\"thesis\"][year]) + \"</ul>\"\n",
        "    ))"
      ],
      "id": "thesis-year",
      "execution_count": null,
      "outputs": []
    }
  ],
  "metadata": {
    "kernelspec": {
      "name": "python3",
      "language": "python",
      "display_name": "Python 3 (ipykernel)"
    }
  },
  "nbformat": 4,
  "nbformat_minor": 5
}